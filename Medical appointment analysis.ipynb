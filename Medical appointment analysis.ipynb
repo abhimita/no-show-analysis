{
 "cells": [
  {
   "cell_type": "code",
   "execution_count": null,
   "metadata": {},
   "outputs": [],
   "source": []
  },
  {
   "cell_type": "markdown",
   "metadata": {},
   "source": [
    "# Project: Medical appointment - no show analysis \n",
    "\n",
    "## Table of Contents\n",
    "\n",
    "<ul>\n",
    "<li><a href=\"#intro\">Introduction</a></li>\n",
    "<li><a href=\"#metadata\">Metadata definition</a></li>\n",
    "<li><a href=\"#wrangling\">Data Wrangling</a></li>\n",
    "<li><a href=\"#eda\">Exploratory Data Analysis</a></li>\n",
    "<li><a href=\"#conclusions\">Conclusions</a></li>\n",
    "</ul>\n",
    "\n"
   ]
  },
  {
   "cell_type": "markdown",
   "metadata": {},
   "source": [
    "<a id='intro'></a>\n",
    "## Introduction\n",
    "\n",
    "A patient not showing up for a prescheduled medical appointment is a waste of resources. It not only results in idle time of the physician but as well as all support staff. That time could have been better utilized by catering another patient who needs attention if instead of \"no show\", the appointment would have been cancelled beforehand."
   ]
  },
  {
   "cell_type": "markdown",
   "metadata": {},
   "source": [
    "<a id='metadata'></a>\n",
    "## Metadata\n",
    "Documentation at https://www.kaggle.com/joniarroba/noshowappointments/home provides metadata information about the fields in data file. I include them in this notebook for reference purposes during the course of this project\n",
    "\n",
    "* PatientID - Identification of the patient\n",
    "* AppointmentID - Unique identification of each appointment\n",
    "* Gender - Allowabe values F or M. There is more data for female patients (please see below)\n",
    "* ScheduleDay - The day somebody called and requested for appointment\n",
    "* AppoinmentDay - The day of appointment\n",
    "* Age - Age of the patient\n",
    "* Neighborhood - Where the appointment takes place (not where the patient resides)\n",
    "* Scholarship - Allowable values are 0 or 1. Additional ref: https://en.wikipedia.org/wiki/Bolsa_Fam%C3%ADlia\n",
    "* Hipertension - Allowable values are - 0 or 1\n",
    "* Diabetes - Allowable values are - 0 or 1\n",
    "* Handcap - Disability status of the patient. Allowable values are 0,1,2,3,4\n",
    "* SMS_received - 1 or more messages sent to the patient\n",
    "* No-show: Allowable values are True (missed appointment) or False (fulfilled appointment"
   ]
  },
  {
   "cell_type": "code",
   "execution_count": 62,
   "metadata": {},
   "outputs": [
    {
     "data": {
      "text/html": [
       "<div>\n",
       "<style scoped>\n",
       "    .dataframe tbody tr th:only-of-type {\n",
       "        vertical-align: middle;\n",
       "    }\n",
       "\n",
       "    .dataframe tbody tr th {\n",
       "        vertical-align: top;\n",
       "    }\n",
       "\n",
       "    .dataframe thead th {\n",
       "        text-align: right;\n",
       "    }\n",
       "</style>\n",
       "<table border=\"1\" class=\"dataframe\">\n",
       "  <thead>\n",
       "    <tr style=\"text-align: right;\">\n",
       "      <th></th>\n",
       "      <th>PatientId</th>\n",
       "      <th>AppointmentID</th>\n",
       "      <th>Gender</th>\n",
       "      <th>ScheduledDay</th>\n",
       "      <th>AppointmentDay</th>\n",
       "      <th>Age</th>\n",
       "      <th>Neighbourhood</th>\n",
       "      <th>Scholarship</th>\n",
       "      <th>Hipertension</th>\n",
       "      <th>Diabetes</th>\n",
       "      <th>Alcoholism</th>\n",
       "      <th>Handcap</th>\n",
       "      <th>SMS_received</th>\n",
       "      <th>No-show</th>\n",
       "    </tr>\n",
       "  </thead>\n",
       "  <tbody>\n",
       "    <tr>\n",
       "      <th>0</th>\n",
       "      <td>2.987250e+13</td>\n",
       "      <td>5642903</td>\n",
       "      <td>F</td>\n",
       "      <td>2016-04-29T18:38:08Z</td>\n",
       "      <td>2016-04-29T00:00:00Z</td>\n",
       "      <td>62</td>\n",
       "      <td>JARDIM DA PENHA</td>\n",
       "      <td>0</td>\n",
       "      <td>1</td>\n",
       "      <td>0</td>\n",
       "      <td>0</td>\n",
       "      <td>0</td>\n",
       "      <td>0</td>\n",
       "      <td>No</td>\n",
       "    </tr>\n",
       "    <tr>\n",
       "      <th>1</th>\n",
       "      <td>5.589978e+14</td>\n",
       "      <td>5642503</td>\n",
       "      <td>M</td>\n",
       "      <td>2016-04-29T16:08:27Z</td>\n",
       "      <td>2016-04-29T00:00:00Z</td>\n",
       "      <td>56</td>\n",
       "      <td>JARDIM DA PENHA</td>\n",
       "      <td>0</td>\n",
       "      <td>0</td>\n",
       "      <td>0</td>\n",
       "      <td>0</td>\n",
       "      <td>0</td>\n",
       "      <td>0</td>\n",
       "      <td>No</td>\n",
       "    </tr>\n",
       "    <tr>\n",
       "      <th>2</th>\n",
       "      <td>4.262962e+12</td>\n",
       "      <td>5642549</td>\n",
       "      <td>F</td>\n",
       "      <td>2016-04-29T16:19:04Z</td>\n",
       "      <td>2016-04-29T00:00:00Z</td>\n",
       "      <td>62</td>\n",
       "      <td>MATA DA PRAIA</td>\n",
       "      <td>0</td>\n",
       "      <td>0</td>\n",
       "      <td>0</td>\n",
       "      <td>0</td>\n",
       "      <td>0</td>\n",
       "      <td>0</td>\n",
       "      <td>No</td>\n",
       "    </tr>\n",
       "    <tr>\n",
       "      <th>3</th>\n",
       "      <td>8.679512e+11</td>\n",
       "      <td>5642828</td>\n",
       "      <td>F</td>\n",
       "      <td>2016-04-29T17:29:31Z</td>\n",
       "      <td>2016-04-29T00:00:00Z</td>\n",
       "      <td>8</td>\n",
       "      <td>PONTAL DE CAMBURI</td>\n",
       "      <td>0</td>\n",
       "      <td>0</td>\n",
       "      <td>0</td>\n",
       "      <td>0</td>\n",
       "      <td>0</td>\n",
       "      <td>0</td>\n",
       "      <td>No</td>\n",
       "    </tr>\n",
       "    <tr>\n",
       "      <th>4</th>\n",
       "      <td>8.841186e+12</td>\n",
       "      <td>5642494</td>\n",
       "      <td>F</td>\n",
       "      <td>2016-04-29T16:07:23Z</td>\n",
       "      <td>2016-04-29T00:00:00Z</td>\n",
       "      <td>56</td>\n",
       "      <td>JARDIM DA PENHA</td>\n",
       "      <td>0</td>\n",
       "      <td>1</td>\n",
       "      <td>1</td>\n",
       "      <td>0</td>\n",
       "      <td>0</td>\n",
       "      <td>0</td>\n",
       "      <td>No</td>\n",
       "    </tr>\n",
       "  </tbody>\n",
       "</table>\n",
       "</div>"
      ],
      "text/plain": [
       "      PatientId  AppointmentID Gender          ScheduledDay  \\\n",
       "0  2.987250e+13        5642903      F  2016-04-29T18:38:08Z   \n",
       "1  5.589978e+14        5642503      M  2016-04-29T16:08:27Z   \n",
       "2  4.262962e+12        5642549      F  2016-04-29T16:19:04Z   \n",
       "3  8.679512e+11        5642828      F  2016-04-29T17:29:31Z   \n",
       "4  8.841186e+12        5642494      F  2016-04-29T16:07:23Z   \n",
       "\n",
       "         AppointmentDay  Age      Neighbourhood  Scholarship  Hipertension  \\\n",
       "0  2016-04-29T00:00:00Z   62    JARDIM DA PENHA            0             1   \n",
       "1  2016-04-29T00:00:00Z   56    JARDIM DA PENHA            0             0   \n",
       "2  2016-04-29T00:00:00Z   62      MATA DA PRAIA            0             0   \n",
       "3  2016-04-29T00:00:00Z    8  PONTAL DE CAMBURI            0             0   \n",
       "4  2016-04-29T00:00:00Z   56    JARDIM DA PENHA            0             1   \n",
       "\n",
       "   Diabetes  Alcoholism  Handcap  SMS_received No-show  \n",
       "0         0           0        0             0      No  \n",
       "1         0           0        0             0      No  \n",
       "2         0           0        0             0      No  \n",
       "3         0           0        0             0      No  \n",
       "4         1           0        0             0      No  "
      ]
     },
     "execution_count": 62,
     "metadata": {},
     "output_type": "execute_result"
    }
   ],
   "source": [
    "import pandas as pd\n",
    "import numpy as np\n",
    "import datetime\n",
    "import re\n",
    "import matplotlib.pyplot as plt\n",
    "import seaborn as sns\n",
    "\n",
    "%matplotlib inline\n",
    "\n",
    "appt_df = pd.read_csv('noshowappointments-kagglev2-may-2016.csv')\n",
    "# Examine sample data\n",
    "appt_df.head(5)"
   ]
  },
  {
   "cell_type": "code",
   "execution_count": 63,
   "metadata": {},
   "outputs": [
    {
     "data": {
      "text/html": [
       "<div>\n",
       "<style scoped>\n",
       "    .dataframe tbody tr th:only-of-type {\n",
       "        vertical-align: middle;\n",
       "    }\n",
       "\n",
       "    .dataframe tbody tr th {\n",
       "        vertical-align: top;\n",
       "    }\n",
       "\n",
       "    .dataframe thead th {\n",
       "        text-align: right;\n",
       "    }\n",
       "</style>\n",
       "<table border=\"1\" class=\"dataframe\">\n",
       "  <thead>\n",
       "    <tr style=\"text-align: right;\">\n",
       "      <th></th>\n",
       "      <th>PatientId</th>\n",
       "      <th>AppointmentID</th>\n",
       "      <th>Age</th>\n",
       "      <th>Scholarship</th>\n",
       "      <th>Hipertension</th>\n",
       "      <th>Diabetes</th>\n",
       "      <th>Alcoholism</th>\n",
       "      <th>Handcap</th>\n",
       "      <th>SMS_received</th>\n",
       "    </tr>\n",
       "  </thead>\n",
       "  <tbody>\n",
       "    <tr>\n",
       "      <th>count</th>\n",
       "      <td>1.105270e+05</td>\n",
       "      <td>1.105270e+05</td>\n",
       "      <td>110527.000000</td>\n",
       "      <td>110527.000000</td>\n",
       "      <td>110527.000000</td>\n",
       "      <td>110527.000000</td>\n",
       "      <td>110527.000000</td>\n",
       "      <td>110527.000000</td>\n",
       "      <td>110527.000000</td>\n",
       "    </tr>\n",
       "    <tr>\n",
       "      <th>mean</th>\n",
       "      <td>1.474963e+14</td>\n",
       "      <td>5.675305e+06</td>\n",
       "      <td>37.088874</td>\n",
       "      <td>0.098266</td>\n",
       "      <td>0.197246</td>\n",
       "      <td>0.071865</td>\n",
       "      <td>0.030400</td>\n",
       "      <td>0.022248</td>\n",
       "      <td>0.321026</td>\n",
       "    </tr>\n",
       "    <tr>\n",
       "      <th>std</th>\n",
       "      <td>2.560949e+14</td>\n",
       "      <td>7.129575e+04</td>\n",
       "      <td>23.110205</td>\n",
       "      <td>0.297675</td>\n",
       "      <td>0.397921</td>\n",
       "      <td>0.258265</td>\n",
       "      <td>0.171686</td>\n",
       "      <td>0.161543</td>\n",
       "      <td>0.466873</td>\n",
       "    </tr>\n",
       "    <tr>\n",
       "      <th>min</th>\n",
       "      <td>3.921784e+04</td>\n",
       "      <td>5.030230e+06</td>\n",
       "      <td>-1.000000</td>\n",
       "      <td>0.000000</td>\n",
       "      <td>0.000000</td>\n",
       "      <td>0.000000</td>\n",
       "      <td>0.000000</td>\n",
       "      <td>0.000000</td>\n",
       "      <td>0.000000</td>\n",
       "    </tr>\n",
       "    <tr>\n",
       "      <th>25%</th>\n",
       "      <td>4.172614e+12</td>\n",
       "      <td>5.640286e+06</td>\n",
       "      <td>18.000000</td>\n",
       "      <td>0.000000</td>\n",
       "      <td>0.000000</td>\n",
       "      <td>0.000000</td>\n",
       "      <td>0.000000</td>\n",
       "      <td>0.000000</td>\n",
       "      <td>0.000000</td>\n",
       "    </tr>\n",
       "    <tr>\n",
       "      <th>50%</th>\n",
       "      <td>3.173184e+13</td>\n",
       "      <td>5.680573e+06</td>\n",
       "      <td>37.000000</td>\n",
       "      <td>0.000000</td>\n",
       "      <td>0.000000</td>\n",
       "      <td>0.000000</td>\n",
       "      <td>0.000000</td>\n",
       "      <td>0.000000</td>\n",
       "      <td>0.000000</td>\n",
       "    </tr>\n",
       "    <tr>\n",
       "      <th>75%</th>\n",
       "      <td>9.439172e+13</td>\n",
       "      <td>5.725524e+06</td>\n",
       "      <td>55.000000</td>\n",
       "      <td>0.000000</td>\n",
       "      <td>0.000000</td>\n",
       "      <td>0.000000</td>\n",
       "      <td>0.000000</td>\n",
       "      <td>0.000000</td>\n",
       "      <td>1.000000</td>\n",
       "    </tr>\n",
       "    <tr>\n",
       "      <th>max</th>\n",
       "      <td>9.999816e+14</td>\n",
       "      <td>5.790484e+06</td>\n",
       "      <td>115.000000</td>\n",
       "      <td>1.000000</td>\n",
       "      <td>1.000000</td>\n",
       "      <td>1.000000</td>\n",
       "      <td>1.000000</td>\n",
       "      <td>4.000000</td>\n",
       "      <td>1.000000</td>\n",
       "    </tr>\n",
       "  </tbody>\n",
       "</table>\n",
       "</div>"
      ],
      "text/plain": [
       "          PatientId  AppointmentID            Age    Scholarship  \\\n",
       "count  1.105270e+05   1.105270e+05  110527.000000  110527.000000   \n",
       "mean   1.474963e+14   5.675305e+06      37.088874       0.098266   \n",
       "std    2.560949e+14   7.129575e+04      23.110205       0.297675   \n",
       "min    3.921784e+04   5.030230e+06      -1.000000       0.000000   \n",
       "25%    4.172614e+12   5.640286e+06      18.000000       0.000000   \n",
       "50%    3.173184e+13   5.680573e+06      37.000000       0.000000   \n",
       "75%    9.439172e+13   5.725524e+06      55.000000       0.000000   \n",
       "max    9.999816e+14   5.790484e+06     115.000000       1.000000   \n",
       "\n",
       "        Hipertension       Diabetes     Alcoholism        Handcap  \\\n",
       "count  110527.000000  110527.000000  110527.000000  110527.000000   \n",
       "mean        0.197246       0.071865       0.030400       0.022248   \n",
       "std         0.397921       0.258265       0.171686       0.161543   \n",
       "min         0.000000       0.000000       0.000000       0.000000   \n",
       "25%         0.000000       0.000000       0.000000       0.000000   \n",
       "50%         0.000000       0.000000       0.000000       0.000000   \n",
       "75%         0.000000       0.000000       0.000000       0.000000   \n",
       "max         1.000000       1.000000       1.000000       4.000000   \n",
       "\n",
       "        SMS_received  \n",
       "count  110527.000000  \n",
       "mean        0.321026  \n",
       "std         0.466873  \n",
       "min         0.000000  \n",
       "25%         0.000000  \n",
       "50%         0.000000  \n",
       "75%         1.000000  \n",
       "max         1.000000  "
      ]
     },
     "execution_count": 63,
     "metadata": {},
     "output_type": "execute_result"
    }
   ],
   "source": [
    "appt_df.describe()"
   ]
  },
  {
   "cell_type": "markdown",
   "metadata": {},
   "source": [
    "<a id='wrangling'></a>\n",
    "## Data Wrangling\n",
    "\n"
   ]
  },
  {
   "cell_type": "markdown",
   "metadata": {},
   "source": [
    "### General Properties\n",
    "\n",
    "Data file contains data at the granularity level of date, individual patient and in the neighbourhood in which they were serviced. Rather than focusing on individual pateint information it is useful to rollup (aggregate) the data at higher level of granularity for analytical purposes. For example, one of metric value of interest is calculating the percentage of \"no-show\" situations.\n",
    "\n",
    "Initial observation shows us:\n",
    "\n",
    "* Appointment date contains \"datetime\" data but the time component is always 00:00:00. So if we can't compute mean wait time (difference between ScheduledDays and AppointmentDay) in hours\n",
    "* As per the metadata appointment day should always be equal to or greater than scheduled day.\n",
    "* Handicap column has 5 values 0, 1-4"
   ]
  },
  {
   "cell_type": "code",
   "execution_count": 64,
   "metadata": {},
   "outputs": [
    {
     "data": {
      "text/plain": [
       "array(['F', 'M'], dtype=object)"
      ]
     },
     "execution_count": 64,
     "metadata": {},
     "output_type": "execute_result"
    }
   ],
   "source": [
    "# Unique values of gender field to make sure that it has nothing other than 'F' & 'M'\n",
    "appt_df['Gender'].unique()"
   ]
  },
  {
   "cell_type": "code",
   "execution_count": 65,
   "metadata": {},
   "outputs": [
    {
     "data": {
      "text/plain": [
       "F    71840\n",
       "M    38687\n",
       "Name: Gender, dtype: int64"
      ]
     },
     "execution_count": 65,
     "metadata": {},
     "output_type": "execute_result"
    }
   ],
   "source": [
    "# Count of female and male patients in the data file\n",
    "appt_df['Gender'].value_counts()"
   ]
  },
  {
   "cell_type": "markdown",
   "metadata": {},
   "source": [
    "### Data Cleansing\n",
    "\n",
    "* Look for duplicates. There are additional cleasing steps which are outlined below.\n",
    "    * Confirm that appointment date is always greater than equal to scheduled date\n",
    "    * Check for null values\n",
    "    * Check for duplicate records\n",
    "    * Examine values in age field\n",
    "    * Examine the values in handicap field\n",
    "\n",
    "Cleansing is accompanied with \n",
    "\n",
    "* Rolling up data at higher level for better analysis\n",
    "* Enrich data with computed fields"
   ]
  },
  {
   "cell_type": "code",
   "execution_count": 66,
   "metadata": {},
   "outputs": [
    {
     "data": {
      "text/plain": [
       "True"
      ]
     },
     "execution_count": 66,
     "metadata": {},
     "output_type": "execute_result"
    }
   ],
   "source": [
    "# Check for duplicated records\n",
    "appt_df.duplicated().sum() == 0\n"
   ]
  },
  {
   "cell_type": "markdown",
   "metadata": {},
   "source": [
    "<b>No duplcate record found</b>"
   ]
  },
  {
   "cell_type": "code",
   "execution_count": 67,
   "metadata": {},
   "outputs": [
    {
     "data": {
      "text/html": [
       "<div>\n",
       "<style scoped>\n",
       "    .dataframe tbody tr th:only-of-type {\n",
       "        vertical-align: middle;\n",
       "    }\n",
       "\n",
       "    .dataframe tbody tr th {\n",
       "        vertical-align: top;\n",
       "    }\n",
       "\n",
       "    .dataframe thead th {\n",
       "        text-align: right;\n",
       "    }\n",
       "</style>\n",
       "<table border=\"1\" class=\"dataframe\">\n",
       "  <thead>\n",
       "    <tr style=\"text-align: right;\">\n",
       "      <th></th>\n",
       "      <th>PatientId</th>\n",
       "      <th>AppointmentID</th>\n",
       "      <th>Age</th>\n",
       "      <th>Scholarship</th>\n",
       "      <th>Hipertension</th>\n",
       "      <th>Diabetes</th>\n",
       "      <th>Alcoholism</th>\n",
       "      <th>Handcap</th>\n",
       "      <th>SMS_received</th>\n",
       "    </tr>\n",
       "  </thead>\n",
       "  <tbody>\n",
       "    <tr>\n",
       "      <th>count</th>\n",
       "      <td>1.105270e+05</td>\n",
       "      <td>1.105270e+05</td>\n",
       "      <td>110527.000000</td>\n",
       "      <td>110527.000000</td>\n",
       "      <td>110527.000000</td>\n",
       "      <td>110527.000000</td>\n",
       "      <td>110527.000000</td>\n",
       "      <td>110527.000000</td>\n",
       "      <td>110527.000000</td>\n",
       "    </tr>\n",
       "    <tr>\n",
       "      <th>mean</th>\n",
       "      <td>1.474963e+14</td>\n",
       "      <td>5.675305e+06</td>\n",
       "      <td>37.088874</td>\n",
       "      <td>0.098266</td>\n",
       "      <td>0.197246</td>\n",
       "      <td>0.071865</td>\n",
       "      <td>0.030400</td>\n",
       "      <td>0.022248</td>\n",
       "      <td>0.321026</td>\n",
       "    </tr>\n",
       "    <tr>\n",
       "      <th>std</th>\n",
       "      <td>2.560949e+14</td>\n",
       "      <td>7.129575e+04</td>\n",
       "      <td>23.110205</td>\n",
       "      <td>0.297675</td>\n",
       "      <td>0.397921</td>\n",
       "      <td>0.258265</td>\n",
       "      <td>0.171686</td>\n",
       "      <td>0.161543</td>\n",
       "      <td>0.466873</td>\n",
       "    </tr>\n",
       "    <tr>\n",
       "      <th>min</th>\n",
       "      <td>3.921784e+04</td>\n",
       "      <td>5.030230e+06</td>\n",
       "      <td>-1.000000</td>\n",
       "      <td>0.000000</td>\n",
       "      <td>0.000000</td>\n",
       "      <td>0.000000</td>\n",
       "      <td>0.000000</td>\n",
       "      <td>0.000000</td>\n",
       "      <td>0.000000</td>\n",
       "    </tr>\n",
       "    <tr>\n",
       "      <th>25%</th>\n",
       "      <td>4.172614e+12</td>\n",
       "      <td>5.640286e+06</td>\n",
       "      <td>18.000000</td>\n",
       "      <td>0.000000</td>\n",
       "      <td>0.000000</td>\n",
       "      <td>0.000000</td>\n",
       "      <td>0.000000</td>\n",
       "      <td>0.000000</td>\n",
       "      <td>0.000000</td>\n",
       "    </tr>\n",
       "    <tr>\n",
       "      <th>50%</th>\n",
       "      <td>3.173184e+13</td>\n",
       "      <td>5.680573e+06</td>\n",
       "      <td>37.000000</td>\n",
       "      <td>0.000000</td>\n",
       "      <td>0.000000</td>\n",
       "      <td>0.000000</td>\n",
       "      <td>0.000000</td>\n",
       "      <td>0.000000</td>\n",
       "      <td>0.000000</td>\n",
       "    </tr>\n",
       "    <tr>\n",
       "      <th>75%</th>\n",
       "      <td>9.439172e+13</td>\n",
       "      <td>5.725524e+06</td>\n",
       "      <td>55.000000</td>\n",
       "      <td>0.000000</td>\n",
       "      <td>0.000000</td>\n",
       "      <td>0.000000</td>\n",
       "      <td>0.000000</td>\n",
       "      <td>0.000000</td>\n",
       "      <td>1.000000</td>\n",
       "    </tr>\n",
       "    <tr>\n",
       "      <th>max</th>\n",
       "      <td>9.999816e+14</td>\n",
       "      <td>5.790484e+06</td>\n",
       "      <td>115.000000</td>\n",
       "      <td>1.000000</td>\n",
       "      <td>1.000000</td>\n",
       "      <td>1.000000</td>\n",
       "      <td>1.000000</td>\n",
       "      <td>4.000000</td>\n",
       "      <td>1.000000</td>\n",
       "    </tr>\n",
       "  </tbody>\n",
       "</table>\n",
       "</div>"
      ],
      "text/plain": [
       "          PatientId  AppointmentID            Age    Scholarship  \\\n",
       "count  1.105270e+05   1.105270e+05  110527.000000  110527.000000   \n",
       "mean   1.474963e+14   5.675305e+06      37.088874       0.098266   \n",
       "std    2.560949e+14   7.129575e+04      23.110205       0.297675   \n",
       "min    3.921784e+04   5.030230e+06      -1.000000       0.000000   \n",
       "25%    4.172614e+12   5.640286e+06      18.000000       0.000000   \n",
       "50%    3.173184e+13   5.680573e+06      37.000000       0.000000   \n",
       "75%    9.439172e+13   5.725524e+06      55.000000       0.000000   \n",
       "max    9.999816e+14   5.790484e+06     115.000000       1.000000   \n",
       "\n",
       "        Hipertension       Diabetes     Alcoholism        Handcap  \\\n",
       "count  110527.000000  110527.000000  110527.000000  110527.000000   \n",
       "mean        0.197246       0.071865       0.030400       0.022248   \n",
       "std         0.397921       0.258265       0.171686       0.161543   \n",
       "min         0.000000       0.000000       0.000000       0.000000   \n",
       "25%         0.000000       0.000000       0.000000       0.000000   \n",
       "50%         0.000000       0.000000       0.000000       0.000000   \n",
       "75%         0.000000       0.000000       0.000000       0.000000   \n",
       "max         1.000000       1.000000       1.000000       4.000000   \n",
       "\n",
       "        SMS_received  \n",
       "count  110527.000000  \n",
       "mean        0.321026  \n",
       "std         0.466873  \n",
       "min         0.000000  \n",
       "25%         0.000000  \n",
       "50%         0.000000  \n",
       "75%         1.000000  \n",
       "max         1.000000  "
      ]
     },
     "execution_count": 67,
     "metadata": {},
     "output_type": "execute_result"
    }
   ],
   "source": [
    "appt_df.describe()"
   ]
  },
  {
   "cell_type": "code",
   "execution_count": 68,
   "metadata": {},
   "outputs": [
    {
     "data": {
      "text/plain": [
       "7"
      ]
     },
     "execution_count": 68,
     "metadata": {},
     "output_type": "execute_result"
    }
   ],
   "source": [
    "len(appt_df.query('Age > 100').index.tolist())"
   ]
  },
  {
   "cell_type": "markdown",
   "metadata": {},
   "source": [
    "Lowest age is -1 while highest age is 115. I plan to remove all records with age <= 0. While it is possible to have patient with age = 115, I find it logical to remove all records where age > 100. Also, we have two few appointment data for people who are more than 100 years old."
   ]
  },
  {
   "cell_type": "code",
   "execution_count": 69,
   "metadata": {},
   "outputs": [
    {
     "data": {
      "text/plain": [
       "5"
      ]
     },
     "execution_count": 69,
     "metadata": {},
     "output_type": "execute_result"
    }
   ],
   "source": [
    "# Investigate schedule date\n",
    "# Since both these fields are in YYYY-MM-DDTHH:MI:SSTZ format they can be compared using string comparison\n",
    "# I will convert them to datetime fields later \n",
    "\n",
    "idx = \\\n",
    "    appt_df\\\n",
    "    .assign(ScheduledDay = appt_df['ScheduledDay']\\\n",
    "            .apply(lambda x: x[:10]))\\\n",
    "    .assign(AppointmentDay = appt_df['AppointmentDay']\\\n",
    "            .apply(lambda x: x[:10]))\\\n",
    "    .query('ScheduledDay > AppointmentDay').index\n",
    "len(idx)"
   ]
  },
  {
   "cell_type": "markdown",
   "metadata": {},
   "source": [
    "I find that there are <b>5</b> records for which appointment date is before scheduled date. They appear to be data entry errors."
   ]
  },
  {
   "cell_type": "code",
   "execution_count": 70,
   "metadata": {},
   "outputs": [],
   "source": [
    "appt_df = appt_df.query(\"Age > 0 and Age < 100\")"
   ]
  },
  {
   "cell_type": "markdown",
   "metadata": {},
   "source": [
    "<b>Deleted records having value in \"age\" column outside the range </b>"
   ]
  },
  {
   "cell_type": "code",
   "execution_count": 71,
   "metadata": {},
   "outputs": [
    {
     "data": {
      "text/plain": [
       "106976"
      ]
     },
     "execution_count": 71,
     "metadata": {},
     "output_type": "execute_result"
    }
   ],
   "source": [
    "len(appt_df.index)"
   ]
  },
  {
   "cell_type": "code",
   "execution_count": 72,
   "metadata": {},
   "outputs": [],
   "source": [
    "appt_df.drop(index=idx, inplace=True)"
   ]
  },
  {
   "cell_type": "code",
   "execution_count": 73,
   "metadata": {},
   "outputs": [
    {
     "data": {
      "text/plain": [
       "106971"
      ]
     },
     "execution_count": 73,
     "metadata": {},
     "output_type": "execute_result"
    }
   ],
   "source": [
    "len(appt_df.index)"
   ]
  },
  {
   "cell_type": "markdown",
   "metadata": {},
   "source": [
    "<b>Identified 5 records have been deleted</b>"
   ]
  },
  {
   "cell_type": "code",
   "execution_count": 74,
   "metadata": {},
   "outputs": [
    {
     "name": "stdout",
     "output_type": "stream",
     "text": [
      "<class 'pandas.core.frame.DataFrame'>\n",
      "Int64Index: 106971 entries, 0 to 110526\n",
      "Data columns (total 14 columns):\n",
      "PatientId         106971 non-null float64\n",
      "AppointmentID     106971 non-null int64\n",
      "Gender            106971 non-null object\n",
      "ScheduledDay      106971 non-null object\n",
      "AppointmentDay    106971 non-null object\n",
      "Age               106971 non-null int64\n",
      "Neighbourhood     106971 non-null object\n",
      "Scholarship       106971 non-null int64\n",
      "Hipertension      106971 non-null int64\n",
      "Diabetes          106971 non-null int64\n",
      "Alcoholism        106971 non-null int64\n",
      "Handcap           106971 non-null int64\n",
      "SMS_received      106971 non-null int64\n",
      "No-show           106971 non-null object\n",
      "dtypes: float64(1), int64(8), object(5)\n",
      "memory usage: 12.2+ MB\n"
     ]
    }
   ],
   "source": [
    "appt_df.info()"
   ]
  },
  {
   "cell_type": "markdown",
   "metadata": {},
   "source": [
    "<b>No null value found</b>"
   ]
  },
  {
   "cell_type": "markdown",
   "metadata": {},
   "source": [
    "### Change to dataframe for ease of analysis\n",
    "\n",
    "1. Patient ID shows up in exponential format. This data type will be changed to string format.\n",
    "2. There are two fields - ScheduledDay & AppoitmentDay. These two will be converted to data type \"datetime\". It will help to do any date/time related analysis. I also store the dates in string format of YYYY-MM-DD for display purposes.\n",
    "4. Change no_show, handicap, scholarship, hypertension, diabetes, alcolholism, sms_received fields to boolean\n",
    "4. New computed field to store the wait time in days (Appointment Date - Scheduled Date). The data type will be integer.\n",
    "5. Convert all column names to lower case for uniformity. Also replace \"-\" to underscore in column names\n"
   ]
  },
  {
   "cell_type": "code",
   "execution_count": 75,
   "metadata": {},
   "outputs": [
    {
     "data": {
      "text/plain": [
       "2016-06-06T00:00:00Z    4528\n",
       "2016-05-16T00:00:00Z    4448\n",
       "2016-05-30T00:00:00Z    4359\n",
       "2016-06-08T00:00:00Z    4356\n",
       "2016-05-09T00:00:00Z    4351\n",
       "2016-06-01T00:00:00Z    4350\n",
       "2016-05-11T00:00:00Z    4347\n",
       "2016-06-07T00:00:00Z    4264\n",
       "2016-05-12T00:00:00Z    4233\n",
       "2016-05-17T00:00:00Z    4226\n",
       "2016-05-18T00:00:00Z    4220\n",
       "2016-05-02T00:00:00Z    4214\n",
       "2016-06-02T00:00:00Z    4203\n",
       "2016-05-10T00:00:00Z    4177\n",
       "2016-05-31T00:00:00Z    4156\n",
       "2016-05-03T00:00:00Z    4127\n",
       "2016-05-05T00:00:00Z    4112\n",
       "2016-05-19T00:00:00Z    4107\n",
       "2016-05-04T00:00:00Z    4047\n",
       "2016-06-03T00:00:00Z    3976\n",
       "2016-05-13T00:00:00Z    3885\n",
       "2016-05-24T00:00:00Z    3876\n",
       "2016-05-06T00:00:00Z    3791\n",
       "2016-05-25T00:00:00Z    3768\n",
       "2016-05-20T00:00:00Z    3707\n",
       "2016-04-29T00:00:00Z    3104\n",
       "2016-05-14T00:00:00Z      39\n",
       "Name: AppointmentDay, dtype: int64"
      ]
     },
     "execution_count": 75,
     "metadata": {},
     "output_type": "execute_result"
    }
   ],
   "source": [
    "appt_df['AppointmentDay'].value_counts()"
   ]
  },
  {
   "cell_type": "markdown",
   "metadata": {},
   "source": [
    "Among all dates of services total number of appointments of 2016-05-14 appears to be unreasonably low. I decided to keep this date as removal of date to result in discontinuity of data."
   ]
  },
  {
   "cell_type": "code",
   "execution_count": 76,
   "metadata": {},
   "outputs": [
    {
     "name": "stdout",
     "output_type": "stream",
     "text": [
      "<class 'pandas.core.frame.DataFrame'>\n",
      "Int64Index: 106971 entries, 0 to 110526\n",
      "Data columns (total 14 columns):\n",
      "patient_id         106971 non-null float64\n",
      "appointment_id     106971 non-null int64\n",
      "gender             106971 non-null object\n",
      "scheduled_day      106971 non-null object\n",
      "appointment_day    106971 non-null object\n",
      "age                106971 non-null int64\n",
      "neighbourhood      106971 non-null object\n",
      "scholarship        106971 non-null int64\n",
      "hypertension       106971 non-null int64\n",
      "diabetes           106971 non-null int64\n",
      "alcoholism         106971 non-null int64\n",
      "handicap           106971 non-null int64\n",
      "sms_received       106971 non-null int64\n",
      "no_show            106971 non-null object\n",
      "dtypes: float64(1), int64(8), object(5)\n",
      "memory usage: 12.2+ MB\n"
     ]
    }
   ],
   "source": [
    "# Change all column names to lower case and replace dash by underscore.\n",
    "# Dictionary of column names which needs special handling for converting them to snake case\n",
    "new_column_names = {'PatientId': 'patient_id', \n",
    "                    'AppointmentID': 'appointment_id', \n",
    "                    'ScheduledDay': 'scheduled_day',\n",
    "                    'AppointmentDay': 'appointment_day',\n",
    "                    'Handcap': 'handicap',\n",
    "                    'Hipertension': 'hypertension'\n",
    "                   }\n",
    "\n",
    "appt_df.columns = [new_column_names[x] if x in new_column_names else x.lower().replace('-','_')  \\\n",
    "                   for x in appt_df.columns]\n",
    "\n",
    "\n",
    "appt_df.info()"
   ]
  },
  {
   "cell_type": "code",
   "execution_count": 77,
   "metadata": {},
   "outputs": [],
   "source": [
    "# Convert scheduleday to datetime field\n",
    "appt_df['scheduled_day'] = pd.to_datetime(\n",
    "    appt_df.scheduled_day.apply(lambda x: x.replace('T', ' ').replace('Z', ' ')), \n",
    "    format='%Y-%m-%d %H:%M:%S', \n",
    "    utc=True)"
   ]
  },
  {
   "cell_type": "code",
   "execution_count": 78,
   "metadata": {},
   "outputs": [],
   "source": [
    "# Convert appointmentday to datetime field\n",
    "appt_df['appointment_day'] = pd.to_datetime(\n",
    "    appt_df.appointment_day.apply(lambda x: x.replace('T', ' ').replace('Z', ' ')), \n",
    "    format='%Y-%m-%d %H:%M:%S', \n",
    "    utc=True)"
   ]
  },
  {
   "cell_type": "code",
   "execution_count": 79,
   "metadata": {},
   "outputs": [],
   "source": [
    "# Change patientID datatype to string\n",
    "appt_df['patient_id'] = appt_df['patient_id'].apply(lambda x: re.sub(r'\\.0{1,}$','',str(x)))\n",
    "appt_df['no_show'] = appt_df.no_show.apply(lambda x: True if x == 'Yes' else False)\n",
    "# Most probably handicaps field indicates degree of disability. For analysis purpose I make this field boolean\n",
    "# along with few other fields\n",
    "for c in ['scholarship', 'hypertension', 'diabetes', 'alcoholism', 'handicap', 'sms_received']:\n",
    "    appt_df[c] = appt_df[c].apply(lambda x: False if x == 0 else True)\n"
   ]
  },
  {
   "cell_type": "code",
   "execution_count": 80,
   "metadata": {},
   "outputs": [
    {
     "name": "stdout",
     "output_type": "stream",
     "text": [
      "<class 'pandas.core.frame.DataFrame'>\n",
      "Int64Index: 106971 entries, 0 to 110526\n",
      "Data columns (total 19 columns):\n",
      "patient_id              106971 non-null object\n",
      "appointment_id          106971 non-null int64\n",
      "gender                  106971 non-null object\n",
      "scheduled_day           106971 non-null datetime64[ns, UTC]\n",
      "appointment_day         106971 non-null datetime64[ns, UTC]\n",
      "age                     106971 non-null int64\n",
      "neighbourhood           106971 non-null object\n",
      "scholarship             106971 non-null bool\n",
      "hypertension            106971 non-null bool\n",
      "diabetes                106971 non-null bool\n",
      "alcoholism              106971 non-null bool\n",
      "handicap                106971 non-null bool\n",
      "sms_received            106971 non-null bool\n",
      "no_show                 106971 non-null bool\n",
      "scheduled_date          106971 non-null datetime64[ns, UTC]\n",
      "appointment_date        106971 non-null datetime64[ns, UTC]\n",
      "wait_days               106971 non-null int64\n",
      "appt_day_of_week        106971 non-null object\n",
      "schedule_day_of_week    106971 non-null object\n",
      "dtypes: bool(7), datetime64[ns, UTC](4), int64(3), object(5)\n",
      "memory usage: 11.3+ MB\n"
     ]
    }
   ],
   "source": [
    "# Store date time fields just as date without time component\n",
    "appt_df['scheduled_date'] = pd.DatetimeIndex(appt_df.scheduled_day).normalize()\n",
    "appt_df['appointment_date'] = pd.DatetimeIndex(appt_df.appointment_day).normalize()\n",
    "# Compute wait days as difference of days between appointment date and scheduled date\n",
    "appt_df['wait_days'] = (appt_df.appointment_date - appt_df.scheduled_date).apply(lambda x: int(x/np.timedelta64(1, 'D')))\n",
    "appt_df['appt_day_of_week'] = appt_df['appointment_date'].dt.weekday_name\n",
    "appt_df['schedule_day_of_week'] = appt_df['scheduled_date'].dt.weekday_name\n",
    "appt_df.info()\n"
   ]
  },
  {
   "cell_type": "code",
   "execution_count": 81,
   "metadata": {},
   "outputs": [
    {
     "data": {
      "text/plain": [
       "array(['2016-04-29', '2016-05-02', '2016-05-03', '2016-05-04',\n",
       "       '2016-05-05', '2016-05-06', '2016-05-09', '2016-05-10',\n",
       "       '2016-05-11', '2016-05-12', '2016-05-13', '2016-05-14',\n",
       "       '2016-05-16', '2016-05-17', '2016-05-18', '2016-05-19',\n",
       "       '2016-05-20', '2016-05-24', '2016-05-25', '2016-05-30',\n",
       "       '2016-05-31', '2016-06-01', '2016-06-02', '2016-06-03',\n",
       "       '2016-06-06', '2016-06-07', '2016-06-08'], dtype=object)"
      ]
     },
     "execution_count": 81,
     "metadata": {},
     "output_type": "execute_result"
    }
   ],
   "source": [
    "np.sort(appt_df['appointment_date'].apply(lambda x: x.strftime(\"%Y-%m-%d\")).unique())"
   ]
  },
  {
   "cell_type": "markdown",
   "metadata": {},
   "source": [
    "The data file contains approximately 1 month's data excluding all information of weekends (Saturday & Sunday). This means data is too small to do seasonality analysis e.g. whether number of no-shows related to specific months of the year. \n"
   ]
  },
  {
   "cell_type": "code",
   "execution_count": 82,
   "metadata": {},
   "outputs": [
    {
     "data": {
      "text/html": [
       "<div>\n",
       "<style scoped>\n",
       "    .dataframe tbody tr th:only-of-type {\n",
       "        vertical-align: middle;\n",
       "    }\n",
       "\n",
       "    .dataframe tbody tr th {\n",
       "        vertical-align: top;\n",
       "    }\n",
       "\n",
       "    .dataframe thead th {\n",
       "        text-align: right;\n",
       "    }\n",
       "</style>\n",
       "<table border=\"1\" class=\"dataframe\">\n",
       "  <thead>\n",
       "    <tr style=\"text-align: right;\">\n",
       "      <th></th>\n",
       "      <th>appointment_date</th>\n",
       "      <th>appt_day_of_week</th>\n",
       "    </tr>\n",
       "  </thead>\n",
       "  <tbody>\n",
       "    <tr>\n",
       "      <th>0</th>\n",
       "      <td>2016-04-29 00:00:00+00:00</td>\n",
       "      <td>Friday</td>\n",
       "    </tr>\n",
       "    <tr>\n",
       "      <th>3295</th>\n",
       "      <td>2016-05-02 00:00:00+00:00</td>\n",
       "      <td>Monday</td>\n",
       "    </tr>\n",
       "    <tr>\n",
       "      <th>3235</th>\n",
       "      <td>2016-05-03 00:00:00+00:00</td>\n",
       "      <td>Tuesday</td>\n",
       "    </tr>\n",
       "    <tr>\n",
       "      <th>3310</th>\n",
       "      <td>2016-05-04 00:00:00+00:00</td>\n",
       "      <td>Wednesday</td>\n",
       "    </tr>\n",
       "    <tr>\n",
       "      <th>3332</th>\n",
       "      <td>2016-05-05 00:00:00+00:00</td>\n",
       "      <td>Thursday</td>\n",
       "    </tr>\n",
       "    <tr>\n",
       "      <th>3330</th>\n",
       "      <td>2016-05-06 00:00:00+00:00</td>\n",
       "      <td>Friday</td>\n",
       "    </tr>\n",
       "    <tr>\n",
       "      <th>3445</th>\n",
       "      <td>2016-05-09 00:00:00+00:00</td>\n",
       "      <td>Monday</td>\n",
       "    </tr>\n",
       "    <tr>\n",
       "      <th>3236</th>\n",
       "      <td>2016-05-10 00:00:00+00:00</td>\n",
       "      <td>Tuesday</td>\n",
       "    </tr>\n",
       "    <tr>\n",
       "      <th>3485</th>\n",
       "      <td>2016-05-11 00:00:00+00:00</td>\n",
       "      <td>Wednesday</td>\n",
       "    </tr>\n",
       "    <tr>\n",
       "      <th>3329</th>\n",
       "      <td>2016-05-12 00:00:00+00:00</td>\n",
       "      <td>Thursday</td>\n",
       "    </tr>\n",
       "    <tr>\n",
       "      <th>3406</th>\n",
       "      <td>2016-05-13 00:00:00+00:00</td>\n",
       "      <td>Friday</td>\n",
       "    </tr>\n",
       "    <tr>\n",
       "      <th>72295</th>\n",
       "      <td>2016-05-14 00:00:00+00:00</td>\n",
       "      <td>Saturday</td>\n",
       "    </tr>\n",
       "    <tr>\n",
       "      <th>3303</th>\n",
       "      <td>2016-05-16 00:00:00+00:00</td>\n",
       "      <td>Monday</td>\n",
       "    </tr>\n",
       "    <tr>\n",
       "      <th>3237</th>\n",
       "      <td>2016-05-17 00:00:00+00:00</td>\n",
       "      <td>Tuesday</td>\n",
       "    </tr>\n",
       "    <tr>\n",
       "      <th>3486</th>\n",
       "      <td>2016-05-18 00:00:00+00:00</td>\n",
       "      <td>Wednesday</td>\n",
       "    </tr>\n",
       "    <tr>\n",
       "      <th>3328</th>\n",
       "      <td>2016-05-19 00:00:00+00:00</td>\n",
       "      <td>Thursday</td>\n",
       "    </tr>\n",
       "    <tr>\n",
       "      <th>3331</th>\n",
       "      <td>2016-05-20 00:00:00+00:00</td>\n",
       "      <td>Friday</td>\n",
       "    </tr>\n",
       "    <tr>\n",
       "      <th>3238</th>\n",
       "      <td>2016-05-24 00:00:00+00:00</td>\n",
       "      <td>Tuesday</td>\n",
       "    </tr>\n",
       "    <tr>\n",
       "      <th>3483</th>\n",
       "      <td>2016-05-25 00:00:00+00:00</td>\n",
       "      <td>Wednesday</td>\n",
       "    </tr>\n",
       "    <tr>\n",
       "      <th>3296</th>\n",
       "      <td>2016-05-30 00:00:00+00:00</td>\n",
       "      <td>Monday</td>\n",
       "    </tr>\n",
       "    <tr>\n",
       "      <th>3239</th>\n",
       "      <td>2016-05-31 00:00:00+00:00</td>\n",
       "      <td>Tuesday</td>\n",
       "    </tr>\n",
       "    <tr>\n",
       "      <th>84121</th>\n",
       "      <td>2016-06-01 00:00:00+00:00</td>\n",
       "      <td>Wednesday</td>\n",
       "    </tr>\n",
       "    <tr>\n",
       "      <th>84076</th>\n",
       "      <td>2016-06-02 00:00:00+00:00</td>\n",
       "      <td>Thursday</td>\n",
       "    </tr>\n",
       "    <tr>\n",
       "      <th>84081</th>\n",
       "      <td>2016-06-03 00:00:00+00:00</td>\n",
       "      <td>Friday</td>\n",
       "    </tr>\n",
       "    <tr>\n",
       "      <th>84098</th>\n",
       "      <td>2016-06-06 00:00:00+00:00</td>\n",
       "      <td>Monday</td>\n",
       "    </tr>\n",
       "    <tr>\n",
       "      <th>84108</th>\n",
       "      <td>2016-06-07 00:00:00+00:00</td>\n",
       "      <td>Tuesday</td>\n",
       "    </tr>\n",
       "    <tr>\n",
       "      <th>84164</th>\n",
       "      <td>2016-06-08 00:00:00+00:00</td>\n",
       "      <td>Wednesday</td>\n",
       "    </tr>\n",
       "  </tbody>\n",
       "</table>\n",
       "</div>"
      ],
      "text/plain": [
       "               appointment_date appt_day_of_week\n",
       "0     2016-04-29 00:00:00+00:00           Friday\n",
       "3295  2016-05-02 00:00:00+00:00           Monday\n",
       "3235  2016-05-03 00:00:00+00:00          Tuesday\n",
       "3310  2016-05-04 00:00:00+00:00        Wednesday\n",
       "3332  2016-05-05 00:00:00+00:00         Thursday\n",
       "3330  2016-05-06 00:00:00+00:00           Friday\n",
       "3445  2016-05-09 00:00:00+00:00           Monday\n",
       "3236  2016-05-10 00:00:00+00:00          Tuesday\n",
       "3485  2016-05-11 00:00:00+00:00        Wednesday\n",
       "3329  2016-05-12 00:00:00+00:00         Thursday\n",
       "3406  2016-05-13 00:00:00+00:00           Friday\n",
       "72295 2016-05-14 00:00:00+00:00         Saturday\n",
       "3303  2016-05-16 00:00:00+00:00           Monday\n",
       "3237  2016-05-17 00:00:00+00:00          Tuesday\n",
       "3486  2016-05-18 00:00:00+00:00        Wednesday\n",
       "3328  2016-05-19 00:00:00+00:00         Thursday\n",
       "3331  2016-05-20 00:00:00+00:00           Friday\n",
       "3238  2016-05-24 00:00:00+00:00          Tuesday\n",
       "3483  2016-05-25 00:00:00+00:00        Wednesday\n",
       "3296  2016-05-30 00:00:00+00:00           Monday\n",
       "3239  2016-05-31 00:00:00+00:00          Tuesday\n",
       "84121 2016-06-01 00:00:00+00:00        Wednesday\n",
       "84076 2016-06-02 00:00:00+00:00         Thursday\n",
       "84081 2016-06-03 00:00:00+00:00           Friday\n",
       "84098 2016-06-06 00:00:00+00:00           Monday\n",
       "84108 2016-06-07 00:00:00+00:00          Tuesday\n",
       "84164 2016-06-08 00:00:00+00:00        Wednesday"
      ]
     },
     "execution_count": 82,
     "metadata": {},
     "output_type": "execute_result"
    }
   ],
   "source": [
    "# Explore day of the week information of appointment days\n",
    "appt_df[['appointment_date', 'appt_day_of_week']].drop_duplicates().sort_values(by=['appointment_date'])"
   ]
  },
  {
   "cell_type": "markdown",
   "metadata": {},
   "source": [
    "Data file doesn't have any weekend data.\n",
    "\n",
    "Missing weekend data can be because of the reason that clinics operate only on week days or the work file is a sample of actual data available in Kaggle."
   ]
  },
  {
   "cell_type": "markdown",
   "metadata": {},
   "source": [
    "<a id='eda'></a>\n",
    "## Exploratory Data Analysis"
   ]
  },
  {
   "cell_type": "markdown",
   "metadata": {},
   "source": [
    "To gain insight, this dataset is used to compute few base levels metrics\n",
    "* Mean wait days - number of days before getting medical attention\n",
    "* % missed appointment (no shows)\n",
    "\n",
    "Missed appointment is the main foxus area of the data file. Analyzing data I will try to determine - which feature(s) affect no show scenarios. Precisely I will try to investigate -\n",
    "* Whether gender has any influence on on-show scenario\n",
    "* Impact of medical condition (diabetes) & gender on no-show % \n",
    "* Whether higher wait day implies higher no-show %\n",
    "* Influence of gender and wait day on no-show\n"
   ]
  },
  {
   "cell_type": "markdown",
   "metadata": {},
   "source": [
    "### Mean wait days"
   ]
  },
  {
   "cell_type": "code",
   "execution_count": 83,
   "metadata": {},
   "outputs": [
    {
     "data": {
      "text/plain": [
       "4.0"
      ]
     },
     "execution_count": 83,
     "metadata": {},
     "output_type": "execute_result"
    }
   ],
   "source": [
    "appt_df['wait_days'].median()"
   ]
  },
  {
   "cell_type": "code",
   "execution_count": 84,
   "metadata": {},
   "outputs": [
    {
     "data": {
      "text/plain": [
       "10.167363117106506"
      ]
     },
     "execution_count": 84,
     "metadata": {},
     "output_type": "execute_result"
    }
   ],
   "source": [
    "appt_df.wait_days.mean()"
   ]
  },
  {
   "cell_type": "code",
   "execution_count": 85,
   "metadata": {},
   "outputs": [
    {
     "data": {
      "text/plain": [
       "count    106971.000000\n",
       "mean         10.167363\n",
       "std          15.263905\n",
       "min           0.000000\n",
       "25%           0.000000\n",
       "50%           4.000000\n",
       "75%          14.000000\n",
       "max         179.000000\n",
       "Name: wait_days, dtype: float64"
      ]
     },
     "execution_count": 85,
     "metadata": {},
     "output_type": "execute_result"
    }
   ],
   "source": [
    "appt_df.wait_days.describe()"
   ]
  },
  {
   "cell_type": "markdown",
   "metadata": {},
   "source": [
    "Apart from finding the mean and median values, I decide look at the distribution of wait time. A histogram and a box-whisker plot of wait day values follow."
   ]
  },
  {
   "cell_type": "code",
   "execution_count": 86,
   "metadata": {},
   "outputs": [
    {
     "data": {
      "image/png": "[encoded data removed]",
      "text/plain": [
       "<Figure size 1080x720 with 1 Axes>"
      ]
     },
     "metadata": {
      "needs_background": "light"
     },
     "output_type": "display_data"
    }
   ],
   "source": [
    "\n",
    "ax = appt_df.wait_days.plot.hist(title=\"Wait day frequency distribution\", \n",
    "                                 figsize=(15,10), \n",
    "                                 legend=True, \n",
    "                                 fontsize=12, \n",
    "                                 bins=80);\n",
    "ax.set_xlabel(\"Wait days\", fontsize=12)\n",
    "ax.set_ylabel(\"Appointment Count\", fontsize=12);\n"
   ]
  },
  {
   "cell_type": "markdown",
   "metadata": {},
   "source": [
    "Next is a box plot of wait times across all days plotted as box-whisker plot. The histogram above shows the distribution has a long right tail. That is emphasized by the box plot which shows the outliers and the fact that median being close to first quartile instead of being in the middle. Presence of outliers is expected to influence the mean value. So I will eliminate the outliers."
   ]
  },
  {
   "cell_type": "code",
   "execution_count": 87,
   "metadata": {},
   "outputs": [
    {
     "data": {
      "image/png": "[encoded data removed]",
      "text/plain": [
       "<Figure size 1080x720 with 1 Axes>"
      ]
     },
     "metadata": {
      "needs_background": "light"
     },
     "output_type": "display_data"
    }
   ],
   "source": [
    "# Analyze the distribution of wait days using box plot\n",
    "ax = \\\n",
    "appt_df.assign(all_days = 'All')[['all_days', 'wait_days']].boxplot(\n",
    "    figsize=(15,10), \n",
    "    fontsize=12);\n",
    "\n",
    "plt.title(\"Boxplot of wait days\");\n",
    "ax.set_ylabel(\"Days\", fontsize=12);"
   ]
  },
  {
   "cell_type": "code",
   "execution_count": 88,
   "metadata": {},
   "outputs": [
    {
     "name": "stdout",
     "output_type": "stream",
     "text": [
      "Number of records in original data frame: 106971\n",
      "Number of records in cleansed data frame: 104383\n"
     ]
    },
    {
     "data": {
      "text/plain": [
       "8.645957675100352"
      ]
     },
     "execution_count": 88,
     "metadata": {},
     "output_type": "execute_result"
    }
   ],
   "source": [
    "\n",
    "print(\"Number of records in original data frame: \" + str(len(appt_df.index.values.tolist())))\n",
    "mean_wait_days = appt_df.wait_days.mean()\n",
    "stddev_wait_days = appt_df.wait_days.std()\n",
    "# Use 3 sigma rule\n",
    "cleansed_appt_df = appt_df.query(\"abs(wait_days - %f) <= (3.0 * %f)\" % (mean_wait_days, stddev_wait_days))\n",
    "print (\"Number of records in cleansed data frame: \" + str(len(cleansed_appt_df.index.values.tolist())))\n",
    "cleansed_appt_df.wait_days.mean()\n"
   ]
  },
  {
   "cell_type": "markdown",
   "metadata": {},
   "source": [
    "I re-calculated mean after eliminating the outliers. Presence of outliers was influencing mean adversely. New mean is 8.66 days. This indicates that on <b>an average a patient has to wait for 8.66 before getting care.</b>"
   ]
  },
  {
   "cell_type": "code",
   "execution_count": 89,
   "metadata": {},
   "outputs": [
    {
     "data": {
      "text/html": [
       "<div>\n",
       "<style scoped>\n",
       "    .dataframe tbody tr th:only-of-type {\n",
       "        vertical-align: middle;\n",
       "    }\n",
       "\n",
       "    .dataframe tbody tr th {\n",
       "        vertical-align: top;\n",
       "    }\n",
       "\n",
       "    .dataframe thead th {\n",
       "        text-align: right;\n",
       "    }\n",
       "</style>\n",
       "<table border=\"1\" class=\"dataframe\">\n",
       "  <thead>\n",
       "    <tr style=\"text-align: right;\">\n",
       "      <th></th>\n",
       "      <th>gender</th>\n",
       "      <th>patient_count_by_gender</th>\n",
       "    </tr>\n",
       "  </thead>\n",
       "  <tbody>\n",
       "    <tr>\n",
       "      <th>0</th>\n",
       "      <td>F</td>\n",
       "      <td>70106</td>\n",
       "    </tr>\n",
       "    <tr>\n",
       "      <th>1</th>\n",
       "      <td>M</td>\n",
       "      <td>36865</td>\n",
       "    </tr>\n",
       "  </tbody>\n",
       "</table>\n",
       "</div>"
      ],
      "text/plain": [
       "  gender  patient_count_by_gender\n",
       "0      F                    70106\n",
       "1      M                    36865"
      ]
     },
     "execution_count": 89,
     "metadata": {},
     "output_type": "execute_result"
    }
   ],
   "source": [
    "gender_agg_df = appt_df[['gender','patient_id']]\\\n",
    ".groupby('gender')\\\n",
    ".agg({'patient_id': 'count'})\\\n",
    ".rename(columns={'patient_id': 'patient_count_by_gender'})\\\n",
    ".reset_index()\n",
    "\n",
    "gender_agg_df\n"
   ]
  },
  {
   "cell_type": "code",
   "execution_count": 104,
   "metadata": {},
   "outputs": [
    {
     "data": {
      "image/png": "[encoded data removed]",
      "text/plain": [
       "<Figure size 432x288 with 1 Axes>"
      ]
     },
     "metadata": {},
     "output_type": "display_data"
    }
   ],
   "source": [
    "\n",
    "f, axes = plt.subplots()\n",
    "ax = \\\n",
    "appt_df.gender.value_counts(normalize=True).plot(\n",
    "    kind='pie', \n",
    "    autopct='%.2f', \n",
    "    legend=True,\n",
    "    title=\"% of female vs male patients\", \n",
    "    fontsize=12,\n",
    "    labels=['','']\n",
    ")\n",
    "ax.legend(['Female', 'Male'])\n",
    "plt.show()\n",
    "\n"
   ]
  },
  {
   "cell_type": "markdown",
   "metadata": {},
   "source": [
    "It shows that there is signficantly more female patients compared to male. It doesn't indicate that anything is wrong but it is an observation that can be made from the given data set."
   ]
  },
  {
   "cell_type": "markdown",
   "metadata": {},
   "source": [
    "<b>Next is overall % of no-shows.</b>"
   ]
  },
  {
   "cell_type": "code",
   "execution_count": 106,
   "metadata": {},
   "outputs": [
    {
     "data": {
      "image/png": "[encoded data removed]",
      "text/plain": [
       "<Figure size 432x288 with 1 Axes>"
      ]
     },
     "metadata": {},
     "output_type": "display_data"
    }
   ],
   "source": [
    "\n",
    "f, axes = plt.subplots()\n",
    "ax = \\\n",
    "appt_df.no_show.value_counts(normalize=True).plot(\n",
    "    kind='pie', \n",
    "    autopct='%.2f', \n",
    "    legend=True,\n",
    "    title=\"Show / no show %\", \n",
    "    fontsize=12,\n",
    "    labels=['','']\n",
    ")\n",
    "ax.legend(['Show %', 'No Show %'])\n",
    "plt.show()\n"
   ]
  },
  {
   "cell_type": "markdown",
   "metadata": {},
   "source": [
    "<b>20% of appointments result in no-show</b>"
   ]
  },
  {
   "cell_type": "markdown",
   "metadata": {},
   "source": [
    "<b>Gender & no-show %</b>"
   ]
  },
  {
   "cell_type": "code",
   "execution_count": 101,
   "metadata": {},
   "outputs": [
    {
     "data": {
      "text/plain": [
       "[Text(0,0,'Female'), Text(0,0,'Male')]"
      ]
     },
     "execution_count": 101,
     "metadata": {},
     "output_type": "execute_result"
    },
    {
     "data": {
      "image/png": "[encoded data removed]",
      "text/plain": [
       "<Figure size 1080x720 with 1 Axes>"
      ]
     },
     "metadata": {
      "needs_background": "light"
     },
     "output_type": "display_data"
    }
   ],
   "source": [
    "# Group by gender\n",
    "gender_appt_agg_df = appt_df[['no_show', 'gender', 'patient_id']]\\\n",
    ".groupby(['no_show', 'gender'])\\\n",
    ".agg({'patient_id': 'count'})\\\n",
    ".reset_index()\\\n",
    ".rename(columns={'patient_id': 'appt_count_by_gender'})\\\n",
    ".merge(gender_agg_df, left_on='gender', right_on='gender')\n",
    "\n",
    "gender_appt_agg_df = \\\n",
    "gender_appt_agg_df.assign(pct_of_that_gender = \\\n",
    "                          round(gender_appt_agg_df.appt_count_by_gender * 100.0 / \n",
    "                          gender_appt_agg_df.patient_count_by_gender, 2))\n",
    "\n",
    "\n",
    "ax = \\\n",
    "gender_appt_agg_df.query('no_show == True')[['gender', 'pct_of_that_gender']]\\\n",
    ".rename(columns={'pct_of_that_gender': 'pct_no_show'})\\\n",
    ".set_index('gender').plot.bar(\n",
    "    title='No show % by gender',\n",
    "    figsize=(15,10), \n",
    "    legend=True, \n",
    "    fontsize=12\n",
    "    )\n",
    "\n",
    "# Adjust y axis start value so that \n",
    "ax.set_ylim(17,21)\n",
    "ax.set_xlabel(\"Gender\", fontsize=12)\n",
    "ax.set_ylabel(\"% no show\", fontsize=12);\n",
    "\n",
    "for p in ax.patches:\n",
    "    ax.annotate(str(p.get_height()), xy=(p.get_x(), p.get_height()))\n",
    "\n",
    "ax.set_xticklabels(['Female', 'Male'], rotation=45)"
   ]
  },
  {
   "cell_type": "markdown",
   "metadata": {},
   "source": [
    "<b>The visualization shows that no-show scenarios are little higher for female patients as compared to male patients</b>"
   ]
  },
  {
   "cell_type": "markdown",
   "metadata": {},
   "source": [
    "<b>Effect of existing medical condition (diabetes) & gender on no-show</b>"
   ]
  },
  {
   "cell_type": "markdown",
   "metadata": {},
   "source": [
    "Now I look for patients having medical condition like diabetes. Goal is to find whether existence of such a medical condition influnce no show %. Combined features like gender & diabetes is analyzed here."
   ]
  },
  {
   "cell_type": "code",
   "execution_count": 98,
   "metadata": {},
   "outputs": [
    {
     "data": {
      "image/png": "[encoded data removed]",
      "text/plain": [
       "<Figure size 1080x720 with 1 Axes>"
      ]
     },
     "metadata": {
      "needs_background": "light"
     },
     "output_type": "display_data"
    }
   ],
   "source": [
    "gender_diabetic_df = \\\n",
    "appt_df[['gender', 'diabetes','patient_id']]\\\n",
    ".groupby(['gender', 'diabetes'])\\\n",
    ".agg({'patient_id': 'count'})\\\n",
    ".rename(columns={'patient_id': 'appt_cnt'})\\\n",
    ".reset_index()\n",
    "\n",
    "gender_diabetic_missed_df = \\\n",
    "appt_df[['no_show', 'gender', 'diabetes', 'patient_id']]\\\n",
    ".query(\"no_show == True\")\\\n",
    ".groupby(['gender', 'diabetes'])\\\n",
    ".agg({'patient_id': 'count'})\\\n",
    ".rename(columns={'patient_id': 'missed_appt_cnt'})\\\n",
    ".reset_index()\\\n",
    ".merge(gender_diabetic_df, left_on=['gender', 'diabetes'], right_on=['gender', 'diabetes'])\n",
    "\n",
    "gender_diabetic_missed_df = \\\n",
    "gender_diabetic_missed_df.assign(\n",
    "    pct_missed = round(gender_diabetic_missed_df.missed_appt_cnt * 100 / gender_diabetic_df.appt_cnt,2)\n",
    ")\n",
    "\n",
    "gender_diabetic_missed_df['diabetes'] = gender_diabetic_missed_df.diabetes.apply(lambda x: 'diabetic' if x == True else 'normal')\n",
    "\n",
    "\n",
    "diabetic_df = \\\n",
    "pd.pivot_table(\n",
    "    gender_diabetic_missed_df[['gender', 'diabetes', 'pct_missed']],\\\n",
    "    index=['gender'], \n",
    "    columns='diabetes', \n",
    "    values='pct_missed',\n",
    "    fill_value=0)\\\n",
    ".reset_index()[['gender', 'diabetic', 'normal']]\\\n",
    ".set_index('gender')\n",
    "\n",
    "ax = \\\n",
    "diabetic_df\\\n",
    ".plot.bar(\n",
    "    figsize=(15,10), \n",
    "    legend=True, \n",
    "    fontsize=12,\n",
    "    title='No show % by gender & diabetic/non-diabetic'\n",
    "    );\n",
    "\n",
    "ax.set_xlabel(\"Gender\", fontsize=12)\n",
    "ax.set_ylabel(\"% no show\", fontsize=12);\n",
    "ax.set_xticklabels(['Female', 'Male'], rotation=45)\n",
    "\n",
    "for p in ax.patches:\n",
    "    ax.annotate(str(p.get_height()), xy=(p.get_x(), p.get_height()))"
   ]
  },
  {
   "cell_type": "markdown",
   "metadata": {},
   "source": [
    "After including diabetes feature, the visualization shows that no show % shows noticable decrease of missed apppointment for diabetic patients compared to non-diabetic patients. One reason may be that patients already diagnosed with diabetes are more careful in keeping the appointments rather than missing it.\n",
    "\n",
    "No show scenarios are lowest for diabetic males."
   ]
  },
  {
   "cell_type": "markdown",
   "metadata": {},
   "source": [
    "<b>Next is the analysis of the impact of wait days on missed appointments</b>"
   ]
  },
  {
   "cell_type": "code",
   "execution_count": 94,
   "metadata": {},
   "outputs": [
    {
     "data": {
      "text/plain": [
       "count    202.000000\n",
       "mean      55.683168\n",
       "std       40.680023\n",
       "min        0.000000\n",
       "25%       25.000000\n",
       "50%       50.000000\n",
       "75%       75.000000\n",
       "max      179.000000\n",
       "Name: wait_days, dtype: float64"
      ]
     },
     "execution_count": 94,
     "metadata": {},
     "output_type": "execute_result"
    }
   ],
   "source": [
    "appt_df[['wait_days', 'no_show', 'gender', 'patient_id']].query('no_show == True')[['gender', 'wait_days', 'patient_id']]\\\n",
    ".groupby(['gender', 'wait_days'])\\\n",
    ".agg({'patient_id': 'count'})\\\n",
    ".reset_index()['wait_days'].describe()"
   ]
  },
  {
   "cell_type": "markdown",
   "metadata": {},
   "source": [
    "Value of \"wait days\" is very widely distributed. It ranges from 0 to 179 day. To study the impact of wait days on missed appointment I divide it into several bins. Bins are not of equal size. For wait days 0 through 4, I have created a bin per day. This primarily because data file contains large number of appointments with wait days between 0 and 4. \n"
   ]
  },
  {
   "cell_type": "code",
   "execution_count": 100,
   "metadata": {},
   "outputs": [
    {
     "data": {
      "image/png": "[encoded data removed]",
      "text/plain": [
       "<Figure size 1080x720 with 1 Axes>"
      ]
     },
     "metadata": {
      "needs_background": "light"
     },
     "output_type": "display_data"
    }
   ],
   "source": [
    "# Split up wait_days metrics into several bins\n",
    "def wait_day_bin(w):\n",
    "    if w == 0:\n",
    "        return \"same day\"\n",
    "    if w <= 4: \n",
    "        return \"%d days\" % w\n",
    "    elif w >= 5 and w <= 29:\n",
    "        lower_bound = int(w / 5) * 5\n",
    "        upper_bound = (int(w / 5) + 1) * 5 - 1\n",
    "    else:\n",
    "        lower_bound = int(w / 30) * 30\n",
    "        upper_bound = (int(w / 30) + 1) * 30 - 1\n",
    "    return \"%d - %d days\" % (lower_bound, upper_bound)\n",
    "    \n",
    "appt_df['wait_day_bin'] = appt_df.wait_days.apply(lambda x: wait_day_bin(x))\n",
    "\n",
    "gender_wait_day_df = \\\n",
    "appt_df[['wait_day_bin', 'no_show', 'gender', 'sms_received', 'patient_id']]\\\n",
    ".groupby(['wait_day_bin', 'no_show', 'gender', 'sms_received'])\\\n",
    ".agg({'patient_id': 'count'})\\\n",
    ".rename(columns={'patient_id': 'appt_cnt'})\\\n",
    ".reset_index()\n",
    "\n",
    "agg_wait_days_df = \\\n",
    "gender_wait_day_df[['wait_day_bin', 'no_show', 'appt_cnt']]\\\n",
    ".groupby(['wait_day_bin', 'no_show'])\\\n",
    ".agg({'appt_cnt': 'sum'})\\\n",
    ".reset_index()\n",
    "\n",
    "agg_wait_days_df['no_show'] = agg_wait_days_df.no_show.apply(lambda x: 'no_show' if x == True else 'show')\n",
    "\n",
    "\n",
    "pivoted_df = \\\n",
    "pd.pivot_table(\n",
    "    agg_wait_days_df,\n",
    "    index=['wait_day_bin'],\n",
    "    columns='no_show',\n",
    "    values='appt_cnt',\n",
    "    fill_value=0)\\\n",
    ".reset_index()[['wait_day_bin', 'no_show', 'show']]\n",
    "\n",
    "pivoted_df = pivoted_df.assign(total_appt_cnt = pivoted_df.no_show + pivoted_df.show)\n",
    "pivoted_df = pivoted_df.assign(pct_missed_appt = round(pivoted_df.no_show * 100/ pivoted_df.total_appt_cnt, 2))\n",
    "\n",
    "# Get distinct values of all bins for wait_day column\n",
    "all_bins = []\n",
    "for i in range(0,180):\n",
    "    s = wait_day_bin(i)\n",
    "    if s not in all_bins:\n",
    "        all_bins.append(s)\n",
    "\n",
    "# Defined custom sort order for bin column\n",
    "pivoted_df['wait_day_bin'] = pd.Categorical(pivoted_df['wait_day_bin'], all_bins)\n",
    "\n",
    "ax = \\\n",
    "pivoted_df.sort_values(by=['wait_day_bin'])[['wait_day_bin', 'pct_missed_appt']]\\\n",
    ".set_index('wait_day_bin')\\\n",
    ".plot.bar(\n",
    "    figsize=(15,10), \n",
    "    legend=True, \n",
    "    title='% of no shows vs wait days',\n",
    "    fontsize=12\n",
    "    );\n",
    "\n",
    "ax.set_xlabel(\"Wait days (number of days between scheduled date & appointment date)\", fontsize=12)\n",
    "ax.set_ylabel(\"% no show\", fontsize=12);\n",
    "ax.legend(['% no show'], loc='upper left')\n",
    "\n",
    "for p in ax.patches:\n",
    "    ax.annotate(str(p.get_height()), xy=(p.get_x(), p.get_height()))\n",
    "    \n",
    "ax.set_xticklabels(all_bins, rotation=45);\n"
   ]
  },
  {
   "cell_type": "markdown",
   "metadata": {},
   "source": [
    "The above visualization highlights several interesting facts. For same day appointment, no show percentage is only 4.67% compared to overall 20%. For appointments having 1 or more days wait time, % no show increases almost montonically. There is some exception to this trend e.g. 90-110 days bucket. That may be because of small data volume for appointments in this bin."
   ]
  },
  {
   "cell_type": "markdown",
   "metadata": {},
   "source": [
    "<b>Influence of SMS received on no-show percentage</b>"
   ]
  },
  {
   "cell_type": "markdown",
   "metadata": {},
   "source": [
    "\n",
    "Another feature to be introduced here is the effect of sms_received. To study this effect I will include sms_received column along-with wait days."
   ]
  },
  {
   "cell_type": "code",
   "execution_count": 96,
   "metadata": {},
   "outputs": [
    {
     "data": {
      "image/png": "[encoded data removed]",
      "text/plain": [
       "<Figure size 1080x720 with 1 Axes>"
      ]
     },
     "metadata": {
      "needs_background": "light"
     },
     "output_type": "display_data"
    }
   ],
   "source": [
    "agg_wait_days_df = \\\n",
    "gender_wait_day_df[['wait_day_bin', 'sms_received', 'no_show', 'appt_cnt']]\\\n",
    ".groupby(['wait_day_bin', 'sms_received', 'no_show'])\\\n",
    ".agg({'appt_cnt': 'sum'})\\\n",
    ".reset_index()\n",
    "\n",
    "agg_wait_days_df['no_show'] = agg_wait_days_df.no_show.apply(lambda x: 'no_show' if x == True else 'show')\n",
    "\n",
    "\n",
    "pivoted_df = \\\n",
    "pd.pivot_table(\n",
    "    agg_wait_days_df,\n",
    "    index=['wait_day_bin', 'sms_received'],\n",
    "    columns=['no_show'],\n",
    "    values='appt_cnt',\n",
    "    fill_value=0)\\\n",
    ".reset_index()[['wait_day_bin', 'sms_received', 'no_show', 'show']]\n",
    "\n",
    "pivoted_df = pivoted_df.assign(total_appt_cnt = pivoted_df.no_show + pivoted_df.show)\n",
    "pivoted_df = pivoted_df.assign(pct_missed_appt = pivoted_df.no_show * 100/ pivoted_df.total_appt_cnt)\n",
    "pivoted_df\n",
    "\n",
    "#pivoted_df['sms_received'] = \\\n",
    "#pivoted_df['sms_received'].apply(lambda x: 'sms_missed_appt' if x == True else 'no_sms_missed_appt')\n",
    "\n",
    "sms_df = pivoted_df[['wait_day_bin', 'sms_received', 'pct_missed_appt']].query('sms_received == True')\\\n",
    "[['wait_day_bin', 'pct_missed_appt']].rename(columns={'pct_missed_appt': 'sms_missed_appt'})\n",
    "no_sms_df = pivoted_df[['wait_day_bin', 'sms_received', 'pct_missed_appt']].query('sms_received == False')\\\n",
    "[['wait_day_bin', 'pct_missed_appt']].rename(columns={'pct_missed_appt': 'no_sms_missed_appt'})\n",
    "\n",
    "combined_df = sms_df.merge(no_sms_df, left_on='wait_day_bin', right_on='wait_day_bin', how='outer')\n",
    "\n",
    "combined_df['wait_day_bin'] = pd.Categorical(combined_df['wait_day_bin'], all_bins)\n",
    "\n",
    "ax = \\\n",
    "combined_df.sort_values(by=['wait_day_bin'])[['wait_day_bin', 'sms_missed_appt', 'no_sms_missed_appt']]\\\n",
    ".set_index('wait_day_bin')\\\n",
    ".plot.bar(\n",
    "    figsize=(15,10), \n",
    "    legend=True, \n",
    "    fontsize=12,\n",
    "    title='% no-show vs wait days & SMS received'\n",
    "    );\n",
    "\n",
    "ax.set_xlabel(\"Wait days\", fontsize=12)\n",
    "ax.set_ylabel(\"% no show\", fontsize=12)\n",
    "ax.legend(['SMS Received & Missed Appt', 'No SMS & Missed Appt']);\n",
    "\n",
    "\n"
   ]
  },
  {
   "cell_type": "markdown",
   "metadata": {},
   "source": [
    "The visualization above shows:\n",
    "\n",
    "* There was no SMS received for any of the missed appointment with 0 - 2 days\n",
    "* Starting from wait day = 3, SMS received has very high influence on % no show. % of missed appointment decreases several percent points when SMS is received. SMS tends to act as a great reminder specially when appointment is 4 or more days awa.\n",
    "* There is exception to rule for 90-119 day bucket but that may be because of small volume of data for such appointments.\n",
    "    "
   ]
  },
  {
   "cell_type": "markdown",
   "metadata": {},
   "source": [
    "<a id='conclusions'></a>\n",
    "## Conclusions"
   ]
  },
  {
   "cell_type": "markdown",
   "metadata": {},
   "source": [
    "There are several features present in the medical appointment no show data. After cleansing and organizing the data i tried to determine to importmant metrics - (1) mean wait time (2) overall no show percent.\n",
    "\n",
    "Since the focus of this data set is no show, I tried to explore different features that impact no-show %\n",
    "\n",
    "Gender attribute is analyzed for no show and existing data shows female patients have slight higher rate of overall no-show. Inclusion of a medical condition like diabetes shows a drop in non-show percent with bigger impact for male & diabetic patients. They tend to have lower no-show % metric.\n",
    "\n",
    "Next I tried to explore the influence of wait days over no-show scenario. Data analysis supports lower wait period is related to lower no-show incidents. The best scenario being same day appointments.\n",
    " \n",
    "When SMS is used a reminder, data supports that no-show incidents decrease for appointment date which are several days away from scheduling date."
   ]
  },
  {
   "cell_type": "code",
   "execution_count": null,
   "metadata": {},
   "outputs": [],
   "source": []
  }
 ],
 "metadata": {
  "kernelspec": {
   "display_name": "Python 3",
   "language": "python",
   "name": "python3"
  },
  "language_info": {
   "codemirror_mode": {
    "name": "ipython",
    "version": 3
   },
   "file_extension": ".py",
   "mimetype": "text/x-python",
   "name": "python",
   "nbconvert_exporter": "python",
   "pygments_lexer": "ipython3",
   "version": "3.7.1"
  }
 },
 "nbformat": 4,
 "nbformat_minor": 2
}
